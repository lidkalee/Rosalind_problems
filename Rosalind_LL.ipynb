{
 "cells": [
  {
   "cell_type": "markdown",
   "metadata": {},
   "source": [
    "##  COUNTING DNA NUCTEOTIDES"
   ]
  },
  {
   "cell_type": "code",
   "execution_count": null,
   "metadata": {
    "collapsed": true
   },
   "outputs": [],
   "source": [
    "dna ='CTTGTACTAGCTTTTGGTGGTTTGCGTGTATATCTCAAAGACGTGGATGACCTCGGCGTCATAAACATCGTCGGGCGCATATTCAAGTAGGGCATGCGATAGGCTTTGGTAGGTTGGAAGGTCGAAACCTGAGATCCCACTTTAATTTACCAAGTGATACATCCCAGTTCGCAGAAGAATAAGGTAGTCCGGCTAACGAGCACAGACTCAACTACTGCGCCGACCAGTGTCGTAACCGTTGACACACTTTTATGGACGTCATACGCCACGTTAATGTCTACCGAATCCTGTGGCGCGGGATACCGACAGTCCCAAACGTTAGATTCCAAATCTATGAACCGGTAATTTTGTTCGGACTGTCCATTGGCTCCTCGCACTATTGCCGTGGATATGAACAGCGGATGCAATGAGGAGCAGTCGTTGCGCGGCTGGAATTTTGCTCCGGACAGTTCGGGCTATCGTTCAGAGTGGGAACGCATCAGGAACCCCGGTCTTCGAACTGTACGTAATAGGGTACCTTTAAGCGGACACTTATATAAGAGAAACGGTCCTCTTTCCGATACGAGTAGGGCAAACTAGCTAAATTTGTCTGTGTGCCACACCTAATCTGACGACTTACAATTCGATTATCCGCTCTCCAACTCATGTGCCGCGCTGCATATTAGACATCAACTTTACCGAGCGACATTTACCACGCGGTAGCTACAGAGCCCGAATATGTTGATTGTCCCCGAGTTTCTCCCCTTTCGGTAGTTCCGGATCCCTCGGCTGCACTGATGACTACGAACGACGCTGAAGAAGAGGTACGAGGAATTTGCCGGTGCTGCGGATCACCCGGTCATCTTGGACCAGA'"
   ]
  },
  {
   "cell_type": "code",
   "execution_count": null,
   "metadata": {},
   "outputs": [],
   "source": [
    "dna\n"
   ]
  },
  {
   "cell_type": "code",
   "execution_count": null,
   "metadata": {},
   "outputs": [],
   "source": [
    "print(\" \".join([str(dna.count(lit)) for lit in [\"A\",\"C\",\"G\",\"T\"]]))\n"
   ]
  },
  {
   "cell_type": "markdown",
   "metadata": {},
   "source": [
    "## Transcribing DNA into RNA"
   ]
  },
  {
   "cell_type": "code",
   "execution_count": null,
   "metadata": {
    "collapsed": true
   },
   "outputs": [],
   "source": [
    "RNA='TCGTACCCGCTTGAGCCGGTTAAGGACATATCGGCATTTCTCGGGATCCTTTTTTTAGTTCTTCTAATCGAAGTCGCTTCGCCGTTATTGAGTCGCATCTCATACCGATGGGACAAATGCTCTGCACGGAAGGAATCCTGCGCCGCCTAAACCTAATCTACTGTCTTAGTGACATGCGGTTTGGGAGAGGAGTGCTCGGAGCCGAGTCGTCCACACGTTGACCAGGTCAGATAGTACCGTTGTAATCGTGGCAAAAGGTTTAAGCATAGCGGGTCGTCTTCATTCGACCTAATAAATATGACTTTGAAGGGTCTCTTTCGAGCCAACACCTGCGACGCGTGGTTCTGCTCATGAAGTTGTCCGGTCTGCACCTTTAAGAGCCGTCACAAGATTCTCTGCGCGGGATGATGGAGAGCATTGGTGAACTGCTTTAGACCTGAAGATATCCGCAGTTAACTGCGAGGCGAATGACCCCTGCAACCCACAAGCTTCCGTCACTAAATCAACAATCATTGGCATCTAGAAATGTTTGGATCAGCCTTTATATCGAACGCTCAATATGCAGCGCCACATATCTCTTCAATCAAGTCGCCGATTGGACACAGCCGAAGCTCCTGACCAAAGAATTAGTGATCGTCGTCTAACAAAACTATAAAGCAATGCTGAGCATCCTCTATACCTAAAACCCTGGGCTCCCCTGTCCCTTAACTTCGCGTCGATTACCTGCAGATGCGCCTAGCTACGTGGGCCTATCATCTTGGATGCACAAGGGTTGGGTTCTCGTGCTCATAACATTCTGCATCAATGCCCTTAATAGTGCATGATTACTTATGCTCCGGCACGAGATTCTTTTGTCCCGACATGCATGATTGTCGGCGTAGTAGGTGCGGGGGGCTCGGATAACCGGAATCATTCGGTAGTCCATCGCTATTTGGGAACACGCCTGCCGAACCGCATTCCTCTTATCGCGCGTCCTGTACACTGGACCGCTTGAAATT'"
   ]
  },
  {
   "cell_type": "code",
   "execution_count": null,
   "metadata": {
    "collapsed": true
   },
   "outputs": [],
   "source": [
    "plikRNA = open('rosalind_rna.txt', 'r') \n",
    "RNA = plikRNA.read()"
   ]
  },
  {
   "cell_type": "code",
   "execution_count": null,
   "metadata": {
    "collapsed": true
   },
   "outputs": [],
   "source": [
    "RNA"
   ]
  },
  {
   "cell_type": "code",
   "execution_count": null,
   "metadata": {
    "collapsed": true
   },
   "outputs": [],
   "source": [
    "DNAzRNA1 =str(RNA.replace('T', 'U'))"
   ]
  },
  {
   "cell_type": "code",
   "execution_count": null,
   "metadata": {
    "collapsed": true
   },
   "outputs": [],
   "source": [
    "print(DNAzRNA1)"
   ]
  },
  {
   "cell_type": "code",
   "execution_count": null,
   "metadata": {
    "collapsed": true
   },
   "outputs": [],
   "source": [
    "DNAzRNA.write('rosalind2')"
   ]
  },
  {
   "cell_type": "code",
   "execution_count": null,
   "metadata": {
    "collapsed": true
   },
   "outputs": [],
   "source": [
    "DNAzRNA = open('DNAzRNA.txt', 'r')"
   ]
  },
  {
   "cell_type": "code",
   "execution_count": null,
   "metadata": {
    "collapsed": true
   },
   "outputs": [],
   "source": [
    "print(DNAzRNA.read())"
   ]
  },
  {
   "cell_type": "markdown",
   "metadata": {},
   "source": [
    "##  Complementing a Strand of DNA"
   ]
  },
  {
   "cell_type": "code",
   "execution_count": null,
   "metadata": {
    "collapsed": true
   },
   "outputs": [],
   "source": [
    "pliktoreverse = open('rosalind_rna.txt', 'r') \n",
    "pliktoreverse = pliktoreverse.read()"
   ]
  },
  {
   "cell_type": "code",
   "execution_count": null,
   "metadata": {
    "collapsed": true
   },
   "outputs": [],
   "source": [
    "pliktoreverse = 'GCCATAACTCTCTGAGGTGGCCACTACATAGGAACCATTGACTTATAGCTGGCGAGGGGACAAGAGCAGTTTTCAGGGTCCGTCGTCGGTGTTTATTTCTATCATGCTCACTTACGGTGCTATCAAGGGAATGTGCGTCCTACGAGCGGAGTTTCTGCCCTCTATTCTAATATGGTAATTTGGGGATGTTAGCACTGAATTAGCGGTGGCGGGTCTAGAAGTTTGTCTACATGACGCACTCCGAGGCAGGATCTGGTTAATCCCAAGCTCTATATATCGTAGGTTGTCTGTCTCGCCCAGGTCACTTAGAGGACATCTGCCTAGAACTACGCCGGAGCGTATAGGACGCCCCGCTCTCCTCGCCTTGCCTATTTTGACCCCGTGATTCTTACAGATGCGCAGTGCCCCTTACGTGACCCCGTTGCCGCCAAAATACACGCAGATCCGAACCATCCTGGGGTAGCTTCCTCGACGGACGATTGGAACTTCACGAGAGTCCCTCGCAAAGAATGACCTTATTCCTTGGTTTGCTGGCTACCGGGGCTGCGCTGATGCCTGGGATATAGCACCGGGCAGAGGCACGAATACGTAGGCACGCTTGGAAGAAAACGTGCCCGGGATTAGGTCACTCCTGCAAATGCCGCATTTAGTTAAGCAGTCGAGTCGCATCAATGCTATACGTTATCACATACCGCATAATCAGTTATCTTTGAGGGGATGCGAGGTAATGAGGATACGTGTCAAGTACGGAAACCTAGAAACAGTCTTAAGCGGCATCCTAAGATGCACCTCGCCGGTCCTATTGTGATGTGTCTACTTATTTCTCACTAGAGACTTTGTGACGTACCAACGTGTGGCTCAGCCAGGTCTGTACAGTGACGTAAGATCAACTGTATAAATGTAAATGAACCTGACACTGCTACACGCCGTGGAGGAGATCTTTCTCGGGCCTTATGACCGTTGAAATGTTTGCCGAGAACCAGCTT'"
   ]
  },
  {
   "cell_type": "code",
   "execution_count": null,
   "metadata": {
    "collapsed": true
   },
   "outputs": [],
   "source": []
  },
  {
   "cell_type": "code",
   "execution_count": null,
   "metadata": {
    "collapsed": true
   },
   "outputs": [],
   "source": [
    "def inversComplement(input):\n",
    "    output = ''\n",
    "    for letter in input:\n",
    "        letter = letter.upper()\n",
    "\n",
    "        if letter == 'A':\n",
    "            output += 'T'\n",
    "        elif letter == 'T':\n",
    "            output += 'A'\n",
    "        elif letter == 'G':\n",
    "            output += 'C'\n",
    "        else:\n",
    "            output += 'G'\n",
    "\n",
    "    return(output[::-1])"
   ]
  },
  {
   "cell_type": "code",
   "execution_count": null,
   "metadata": {
    "collapsed": true,
    "scrolled": false
   },
   "outputs": [],
   "source": [
    "inversedCode = inversComplement(pliktoreverse)\n",
    "print(inversedCode)"
   ]
  },
  {
   "cell_type": "code",
   "execution_count": null,
   "metadata": {
    "collapsed": true,
    "scrolled": true
   },
   "outputs": [],
   "source": [
    "\"fufu\"[::-1]"
   ]
  },
  {
   "cell_type": "markdown",
   "metadata": {},
   "source": [
    "## Counting Point Mutations"
   ]
  },
  {
   "cell_type": "code",
   "execution_count": null,
   "metadata": {
    "collapsed": true
   },
   "outputs": [],
   "source": [
    "sequence_a = 'TATGGTACTCCTTCCGCGAATGAAGTACATACGACATTAGTGCGAGACAGGGTGCGATCTCTGGCCAAGCGAGGAATGACATACCTCAACTCAGCGGGCCTCTCATGAGGATGCAGGCTAGACTTCTTTCTTGAGTGTAGCAGTCCTCCCGGCGATCGATTCATCCTTCACGGCTTCGTGGTATCTCAGAGGGGGAACCGTGTAATACAACTGTGCTATAATGTTTGTTTTTCACACGACTCAGAGGATTCCAATGCGCCGATTGGCACAGTCGGTGTGTCGAGCATCCTCTCCATGCCGGGATCGGTTATGCCAGATTTGCCCGGCTCTCCTCTCAACCGTATCAGACTAATACTCACGCGGTGTATAGGACGACCTGTCTGACTAAGTTAACAATATGACAAATACCGAGCGCTAGGTTACTACGCGGGAACGTAGAGCCTATCGCCTCCTGTCTAGTTTACAGGCCTCGCTGCTGCTCAAATGACTCCACACAATCGACTGCGTAAGGGTCACAGGCATTGCGGGAGTCGCCATAATCCCGAATCGGTGTCCGGACATACCCCCCATAAAGTTATTAGACACTAGGGGACACTTTTGGAAAGATGGTGAGGAGTCAGAGCAGCCAGAAGTCGAAATCACCCAAAGGTCCATATTGTATGCAGCGGAAAACGACTGATAACTCTATAGTAAGGCAATCCTCATACAAAGCAGCATTCAATTCCATTACTCTCCCAGTGCCCTGGAGAGTAAATCCTCTCGAGCGCTAAAGCGATATGCGCTCATGTGGTCACGGTTCGATACAGTATCTTGGATGGCGATCGTACCTTAGGTAAAGAGCCCGAGCAATGTCGAGTCGCATCCCCGGAGCTATGACAGGAGAGACGCACCTGCCGTCCCGATACCAGAAAGGATCGCGATGTAAGAAAGACGTGTGCGCGCTTAAAAACGGAGCAATGTTTGCCCGACAGCACCGCC'\n",
    "sequence_b = 'TATTATACGACACTCGGGAACCTAGCCCCATCGCTTCTGCAGCGCGAACTTGTTAGATCCCGTCACAGGTATGATTTGCGATTCGTGAACACAGGCGGCAACTCCACGATCTGCATTCTAGAATGAGGCAGATCTTACGAGAGTCCTCAATCCGGTCATGCTACGCTTCACGATCTACTTCTGCCGAAAGGGGCAGGGCGTACATACTAAGTTTAGAATCGGGATGGATCATTGGACATCACCTCGATACTAAAATAGTAAATTGGCGTATCCAATGATGCTTAAAGCCGGTACAGGACGAGTTATAATAAGAATTACTTGCTGGACCGCCACTACAAGGGTATCGGCCTGACAGTAGCGATCTGTATCCGGGCGCGGGTCCGACTATTGCATGGACATGGTCACACCCGGTTAAAACATTCATAGGACGCGAGGCAGGGACTAACCACTTCTCCGCACTATACAGTTCCCGCAGCCGCTCTAATGGATCTAGGGAGTCTGCTTATTGCGGTGAGCATGGGTTTCACGATCGGCACGACTTTCGGTTCAGTACCGATCGAAACCGCCCATAGAAGCATTACTCATTAAGAGGAAGACGCATAAGTTTTGTTAAGAGTCCGAGCGACCAGAATGCCCAGTCACCCGGCGGTGGCCCAGCTGTGAATCAGATAGAGGCTGATTAGAAACTACAACGGAGTCCATCATGGCAAGTAGTATTTACTGCAGTTTATCTCGTCCCAACAACGCGACTAATGGCATTGCAGAGCGAGAGAGCGCTAGACACGTACCCACAATCTTCGACACAGTGACACACATGGCAATCGGACCTCACCTATAGGGCCTGACGAACATCCCGCGGCGTCGCTGCGGTTTCAATTGGAGTCGGACTCGTGCTATCCCGTTCCTCAATAGAAATGATTAAAAAGGTTGGATGGAGCGGGCTCAAAGTTGGACAGCCTCATTCACGTGGTTCGCACC'"
   ]
  },
  {
   "cell_type": "markdown",
   "metadata": {},
   "source": [
    "#### Hamming distance -The Hamming distance between two strings having the same length is the minimum number of symbol substitutions required to transform one string into the other. If the strings are given by s1 and s2, then we write the Hamming distance between them as dH(s1,s2).\n",
    "\n",
    "#### We can compute the Hamming distance by visual inspection: the Hamming distance between two strings is simply the number of positions in the strings at which corresponding symbols differ. For example, the Hamming distance between the two strings in the figure below must be equal to 7.\n",
    "\n"
   ]
  },
  {
   "cell_type": "code",
   "execution_count": null,
   "metadata": {
    "collapsed": true
   },
   "outputs": [],
   "source": [
    "distance = 0\n",
    "for n in range (len(sequence_a)):\n",
    "    if sequence_a[n] != sequence_b[n]:\n",
    "        distance = distance + 1\n",
    "print(distance)   "
   ]
  },
  {
   "cell_type": "markdown",
   "metadata": {},
   "source": [
    "## Enumerating Gene Orders"
   ]
  },
  {
   "cell_type": "markdown",
   "metadata": {},
   "source": [
    "#### A genome rearrangement is a major genomic mutation, usually driven by errors in cell division following meiosis or mitosis. These large-scale changes to the structure of chromosomes are almost always harmful and usually result in the death or sterility of the developing organism, but in very rare cases, they provide a significant advantage. For example, duplications of chromosomal segments can introduce an extra copy of a beneficial gene, which allows one of the gene copies to evolve a modified function.\n",
    "1. deletion\n",
    "2. duplication\n",
    "3. inversion\n",
    "4. insertion\n",
    "5. translocaion"
   ]
  },
  {
   "cell_type": "markdown",
   "metadata": {},
   "source": [
    "#### A synteny block is a collection of contiguous genes located on the same chromosome. Traits provided by these genes are usually inherited together, thus violating Mendel's law of independent assortment.\n",
    "\n",
    "Synteny blocks have mostly been preserved by genome rearrangements, and so synteny blocks from two related species (e.g., humans and mice) will be roughly similar but flipped and around on the respective genomes, so that genomic comparison can be achieved by analyzing rearrangements that could have produced the two genomes.\n",
    "\n",
    "#### A permutation of length n is an ordering of the positive integers {1,2,…,n}. For example, π=(5,3,2,1,4) is a permutation of length 5.\n",
    "\n",
    "Given: A positive integer n≤7.\n",
    "\n",
    "Return: The total number of permutations of length n, followed by a list of all such permutations (in any order).\n",
    "\n"
   ]
  },
  {
   "cell_type": "markdown",
   "metadata": {},
   "source": [
    "Syntenia – występowanie loci co najmniej dwóch genów na jednym chromosomie niezależnie od tego, czy są ze sobą sprzężone (tj. o częstości rekombinacji poniżej 50%[1]) lub rozchodzą się niezależnie, czy też nie[2][3][1]. Termin „syntenia” (ang. synteny) został wprowadzony w 1971 roku przez Johna Renwicka. W języku greckim oznacza „ta sama nić” (lub „taśma”). Konieczność jego wprowadzenia wynikła z nowych wówczas metod mapowania genów przy użyciu somatycznych hybryd komórkowych[3].\n",
    "\n",
    "W genomice pojęcie „syntenia” bywa używane do określenia występowania genów w tej samej kolejności w różnych genomach[4][5]. Takie zastosowanie jest jednak sprzeczne z oryginalną definicją tego terminu[3], dlatego terminem bardziej odpowiednim dla genomicznego rozumienia syntenii może być kolinearność[5]."
   ]
  },
  {
   "cell_type": "code",
   "execution_count": null,
   "metadata": {
    "collapsed": true
   },
   "outputs": [],
   "source": [
    "from itertools import permutations "
   ]
  },
  {
   "cell_type": "code",
   "execution_count": null,
   "metadata": {
    "collapsed": true
   },
   "outputs": [],
   "source": [
    "liczba_permutacji = 7\n",
    "perm = liczba_permutacji+1"
   ]
  },
  {
   "cell_type": "code",
   "execution_count": null,
   "metadata": {},
   "outputs": [],
   "source": [
    "perm"
   ]
  },
  {
   "cell_type": "code",
   "execution_count": null,
   "metadata": {
    "collapsed": true
   },
   "outputs": [],
   "source": [
    "permutacje = list(permutations(range(1,perm)))\n"
   ]
  },
  {
   "cell_type": "code",
   "execution_count": null,
   "metadata": {},
   "outputs": [],
   "source": [
    "print(count(permutacje))"
   ]
  },
  {
   "cell_type": "code",
   "execution_count": null,
   "metadata": {},
   "outputs": [],
   "source": [
    "help(permutacje)"
   ]
  },
  {
   "cell_type": "code",
   "execution_count": null,
   "metadata": {
    "scrolled": false
   },
   "outputs": [],
   "source": [
    "for element in permutacje:\n",
    "\n",
    "    print(\" \".join([str(lit) for lit in element]))\n"
   ]
  },
  {
   "cell_type": "code",
   "execution_count": null,
   "metadata": {
    "scrolled": true
   },
   "outputs": [],
   "source": [
    "permutacje.sum(element)"
   ]
  },
  {
   "cell_type": "code",
   "execution_count": null,
   "metadata": {},
   "outputs": [],
   "source": [
    "trojki=[]\n",
    "for element in permutacje:\n",
    "\n",
    "    trojki.append(\" \".join([str(lit) for lit in element]))\n",
    "    \n",
    "'\\n'.join(trojki)"
   ]
  },
  {
   "cell_type": "code",
   "execution_count": null,
   "metadata": {
    "collapsed": true
   },
   "outputs": [],
   "source": []
  },
  {
   "cell_type": "code",
   "execution_count": null,
   "metadata": {},
   "outputs": [],
   "source": [
    "\n",
    "    \n",
    "'\\n'.join([\" \".join([str(lit) for lit in element]) for element in permutacje])\n"
   ]
  },
  {
   "cell_type": "code",
   "execution_count": null,
   "metadata": {},
   "outputs": [],
   "source": [
    "for element in permutacje:\n",
    "    tekstowe=map(str, element)  #zamienia na str\n",
    "    print(\" \".join(tekstowe))\n"
   ]
  },
  {
   "cell_type": "code",
   "execution_count": null,
   "metadata": {
    "collapsed": true
   },
   "outputs": [],
   "source": [
    "print(\" \".join([str(dna.count(lit)) for lit in [\"A\",\"C\",\"G\",\"T\"]]))"
   ]
  },
  {
   "cell_type": "code",
   "execution_count": null,
   "metadata": {
    "collapsed": true
   },
   "outputs": [],
   "source": [
    "ll=[\"Kocham\"]*1000"
   ]
  },
  {
   "cell_type": "markdown",
   "metadata": {
    "collapsed": true
   },
   "source": [
    "## Translating RNA into Protein"
   ]
  },
  {
   "cell_type": "code",
   "execution_count": null,
   "metadata": {
    "collapsed": true
   },
   "outputs": [],
   "source": []
  },
  {
   "cell_type": "code",
   "execution_count": null,
   "metadata": {
    "collapsed": true
   },
   "outputs": [],
   "source": []
  }
 ],
 "metadata": {
  "kernelspec": {
   "display_name": "Python 3",
   "language": "python",
   "name": "python3"
  },
  "language_info": {
   "codemirror_mode": {
    "name": "ipython",
    "version": 3
   },
   "file_extension": ".py",
   "mimetype": "text/x-python",
   "name": "python",
   "nbconvert_exporter": "python",
   "pygments_lexer": "ipython3",
   "version": "3.6.1"
  }
 },
 "nbformat": 4,
 "nbformat_minor": 2
}
